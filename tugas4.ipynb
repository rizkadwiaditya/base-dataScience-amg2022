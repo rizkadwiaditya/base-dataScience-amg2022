{
  "nbformat": 4,
  "nbformat_minor": 0,
  "metadata": {
    "colab": {
      "provenance": []
    },
    "kernelspec": {
      "name": "python3",
      "display_name": "Python 3"
    },
    "language_info": {
      "name": "python"
    }
  },
  "cells": [
    {
      "cell_type": "code",
      "execution_count": 1,
      "metadata": {
        "id": "oa207OeOR5pQ"
      },
      "outputs": [],
      "source": [
        "import statistics\n",
        "import pandas as pd\n",
        "import numpy as np\n",
        "from scipy import stats\n"
      ]
    },
    {
      "cell_type": "code",
      "source": [
        "import matplotlib.pyplot as plt\n"
      ],
      "metadata": {
        "id": "Xk_I6RGuSA_5"
      },
      "execution_count": 2,
      "outputs": []
    },
    {
      "cell_type": "code",
      "source": [
        "burger = 6\n",
        "pizza = 3\n",
        "dimsum = 4\n",
        "ekkado = 4\n",
        "milkshake = 2\n",
        "eskrim = 5\n",
        "hasil = (burger + pizza + dimsum + ekkado + milkshake + eskrim)\n",
        "total = (burger * 24000) + (pizza * 52000 )+ (dimsum * 30000 ) + (ekkado * 7500) + (milkshake * 10000) + (eskrim * 15000)\n",
        "print(\"hasil dari semua pesanan \" + str(total))\n",
        "print(\"hasil dari semua pesanan \" + str(hasil))\n",
        "\n",
        "print(\"==== soal no 2 ====\")\n",
        "hasil = (burger + pizza + dimsum + ekkado + milkshake + eskrim)\n",
        "print(\"hasil dari semua pesanan \" + str(hasil))\n",
        "p_burger = burger / 24\n",
        "print(\"persentase burger \" +str(p_burger))\n",
        "p_pizza = pizza / 24\n",
        "print(\"persentase pizza \" +str(p_pizza))\n",
        "p_dimsum = dimsum / 24\n",
        "print(\"persentase dimsum \" +str(p_dimsum))\n",
        "p_ekkado = ekkado / 24\n",
        "print(\"persentase ekkado \" +str(p_ekkado))\n",
        "p_milkshake = milkshake / 24\n",
        "print(\"persentase milkshake \" +str(p_milkshake))\n",
        "p_eskrim = eskrim / 24\n",
        "print(\"persentase eskrim \" +str(p_eskrim))\n",
        "# pie chart\n",
        "fig = plt.figure()\n",
        "ax = fig.add_axes([0,0,1,1])\n",
        "ax.axis('equal')\n",
        "pendidikan = ['burger', 'pizza', 'dimsum', 'ekkado', 'milkshake', 'eskrim']\n",
        "hasil = [0.25, 0.125, 0.166, 0.166, 0.083, 0.208]\n",
        "ax.pie(hasil,labels=pendidikan,autopct='%1.2f%%')\n",
        "plt.title(\"eskul\")\n",
        "plt.show()\n",
        "\n",
        "\n",
        "print(\"===== soal no 3 =====\")\n",
        "print(\"==== belanjaan ahmad====\")\n",
        "burger = 4\n",
        "pizza = 2\n",
        "jml_b = ( 0.70 * ((burger * 24000) + (pizza * 52000))) + (7.5*2000) - 5000\n",
        "print(\"maka hasilnya \" +str(jml_b))\n",
        "kem = 200000 - jml_b\n",
        "print(\"maka kembaliannya + gratis ongkir 5000 adalah \" +str(kem))\n",
        "print(\"==== belanjaan beni====\")\n",
        "dimsum = 3\n",
        "eskrim = 1\n",
        "milkshake = 2\n",
        "jml_b = (0.70 * ((dimsum * 30000) + (eskrim * 15000) + (milkshake * 10000))) + (4 * 1800) - 5000\n",
        "print(\"maka hasilnya \" + str(jml_b))\n",
        "kem = 150000 - jml_b\n",
        "print(\"maka kembaliannya + gratis ongkir 5000 adalah \" +str(kem))\n",
        "print(\"==== belanjaan citra====\")\n",
        "eskrim = 3\n",
        "jml_b = + (eskrim * 15000) + (8 * 2000) - 5000\n",
        "print(\"maka hasilnya \" + str(jml_b))\n",
        "kem = 60000 - jml_b\n",
        "print(\"maka kembaliannya + gratis ongkir 5000 adalah \" +str(kem))\n",
        "print(\"==== belanjaan dadang====\")\n",
        "burger = 2\n",
        "dimsum = 1\n",
        "jml_b = (0.80 * ((burger * 24000) + (dimsum * 30000))) + (5 * 1800) - 5000\n",
        "print(\"maka hasilnya \" + str(jml_b))\n",
        "kem = 100000 - jml_b\n",
        "print(\"maka kembaliannya + gratis ongkir 5000 adalah \" +str(kem))\n",
        "print(\"==== belanjaan epen====\")\n",
        "ekkado = 4\n",
        "eskrim = 1\n",
        "pizza = 1\n",
        "jml_b = (0.70 * ((ekkado * 7500) + (eskrim * 15000) + (pizza * 52000 ))) + (12 * 2200) - 5000\n",
        "print(\"maka hasilnya \" + str(jml_b))\n",
        "kem = 100000 - jml_b\n",
        "print(\"maka kembaliannya + gratis ongkir 5000 adalah \" +str(kem))\n",
        "\n",
        "print(\"==== no 4 ====\")\n",
        "uang = 200000\n",
        "ongkir = 15000\n",
        "hasil = (uang - 150000) + ongkir\n",
        "print (\"maka jumlah potongan ahmad : \" +str(hasil))\n",
        "acis = 150000\n",
        "ongkir = 7200\n",
        "total = (acis - 125000) + ongkir\n",
        "print (\"maka jumlah potongan beni : \" +str(total))\n",
        "uang = 60000\n",
        "ongkir = 16000\n",
        "hasil = (uang - 45000) - ongkir\n",
        "print (\"maka jumlah potongan citra : \" +str(hasil))\n",
        "print(\"=== no 5 ===\")\n",
        "jarak_a= 7.5\n",
        "ongkir_a = 2000\n",
        "jarak_b = 4\n",
        "ongkir_b = 1800\n",
        "jarak_c = 8\n",
        "ongkir_c = 2000\n",
        "jarak_d = 5\n",
        "ongkir_d = 1800\n",
        "jarak_e = 12\n",
        "ongkir_e = 2200\n",
        "hasil = (jarak_a * ongkir_a) + (jarak_b * ongkir_b) + (jarak_c * ongkir_c) + (jarak_d * ongkir_d) + (jarak_e * ongkir_e)\n",
        "print(\"maka total ongkir semuanya : \" +str(hasil))\n",
        "\n",
        "\n",
        "\n",
        "\n"
      ],
      "metadata": {
        "colab": {
          "base_uri": "https://localhost:8080/",
          "height": 891
        },
        "id": "ndM2TutASEDw",
        "outputId": "a04b8390-fe90-4e17-ffe4-03dde3c5d18d"
      },
      "execution_count": 9,
      "outputs": [
        {
          "output_type": "stream",
          "name": "stdout",
          "text": [
            "hasil dari semua pesanan 545000\n",
            "hasil dari semua pesanan 24\n",
            "==== soal no 2 ====\n",
            "hasil dari semua pesanan 24\n",
            "persentase burger 0.25\n",
            "persentase pizza 0.125\n",
            "persentase dimsum 0.16666666666666666\n",
            "persentase ekkado 0.16666666666666666\n",
            "persentase milkshake 0.08333333333333333\n",
            "persentase eskrim 0.20833333333333334\n"
          ]
        },
        {
          "output_type": "display_data",
          "data": {
            "text/plain": [
              "<Figure size 432x288 with 1 Axes>"
            ],
            "image/png": "[encoded data removed]"
          },
          "metadata": {}
        },
        {
          "output_type": "stream",
          "name": "stdout",
          "text": [
            "===== soal no 3 =====\n",
            "==== belanjaan ahmad====\n",
            "maka hasilnya 150000.0\n",
            "maka kembaliannya + gratis ongkir 5000 adalah 50000.0\n",
            "==== belanjaan beni====\n",
            "maka hasilnya 89700.0\n",
            "maka kembaliannya + gratis ongkir 5000 adalah 60300.0\n",
            "==== belanjaan citra====\n",
            "maka hasilnya 56000\n",
            "maka kembaliannya + gratis ongkir 5000 adalah 4000\n",
            "==== belanjaan dadang====\n",
            "maka hasilnya 66400.0\n",
            "maka kembaliannya + gratis ongkir 5000 adalah 33600.0\n",
            "==== belanjaan epen====\n",
            "maka hasilnya 89300.0\n",
            "maka kembaliannya + gratis ongkir 5000 adalah 10700.0\n",
            "==== no 4 ====\n",
            "maka jumlah potongan ahmad : 65000\n",
            "maka jumlah potongan beni : 32200\n",
            "maka jumlah potongan citra : -1000\n",
            "=== no 5 ===\n",
            "maka total ongkir semuanya : 73600.0\n"
          ]
        }
      ]
    }
  ]
}